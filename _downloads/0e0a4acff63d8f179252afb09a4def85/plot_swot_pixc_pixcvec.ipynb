{
  "cells": [
    {
      "cell_type": "code",
      "execution_count": null,
      "metadata": {
        "collapsed": false
      },
      "outputs": [],
      "source": [
        "%matplotlib inline"
      ]
    },
    {
      "cell_type": "markdown",
      "metadata": {},
      "source": [
        "\n# Read and plot a SWOT-HR Pixel Cloud and Pixel Cloud Vector netcdf products \n\n In this example, we show how to read the SWOT-HR pixel cloud, pixel cloud vector products with xarray and how to represent a variable on a map with cartopy.\n"
      ]
    },
    {
      "cell_type": "markdown",
      "metadata": {},
      "source": [
        "Please note that apart from the libraries listed in the cell below, you need to install the h5netcdf library (conda install -c conda-forge h5netcdf). This will be used by th xarray.open_dataset function to read the netcdf files.\n\n"
      ]
    },
    {
      "cell_type": "code",
      "execution_count": null,
      "metadata": {
        "collapsed": false
      },
      "outputs": [],
      "source": [
        "import xarray as xr\nimport os\nimport numpy as np\nimport matplotlib.pyplot as plt"
      ]
    },
    {
      "cell_type": "markdown",
      "metadata": {},
      "source": [
        "## 1. Read a SWOT-HR Pixel Cloud netcdf product\n\n"
      ]
    },
    {
      "cell_type": "code",
      "execution_count": null,
      "metadata": {
        "collapsed": false
      },
      "outputs": [],
      "source": [
        "dir_swot = \"_data/\"\nfile_swot_pxc = os.path.join(dir_swot, \"SWOT_L2_HR_PIXC_001_042_067L_20220402T112019_20220402T112029_Dx0000_01.nc\")"
      ]
    },
    {
      "cell_type": "markdown",
      "metadata": {},
      "source": [
        "read data with xarray, specifying a group in the netcdf structure\n\n"
      ]
    },
    {
      "cell_type": "code",
      "execution_count": null,
      "metadata": {
        "collapsed": false
      },
      "outputs": [],
      "source": [
        "xr_pxc = xr.open_dataset(file_swot_pxc, group=\"pixel_cloud\")\n# remove undefined values based on variable of interest\nxr_pxc = xr_pxc.where(~np.isnan(xr_pxc.height))"
      ]
    },
    {
      "cell_type": "markdown",
      "metadata": {},
      "source": [
        "## 2. Read a SWOT-HR Pixel Cloud Vector netcdf product\n\n"
      ]
    },
    {
      "cell_type": "code",
      "execution_count": null,
      "metadata": {
        "collapsed": false
      },
      "outputs": [],
      "source": [
        "file_swot_pxcvec = os.path.join(dir_swot, \"SWOT_L2_HR_PIXCVec_001_042_067L_20220402T112019_20220402T112029_Dx0000_01.nc\")"
      ]
    },
    {
      "cell_type": "markdown",
      "metadata": {},
      "source": [
        "read data with xarray\n\n"
      ]
    },
    {
      "cell_type": "code",
      "execution_count": null,
      "metadata": {
        "collapsed": false
      },
      "outputs": [],
      "source": [
        "xr_pxcvec = xr.open_dataset(file_swot_pxcvec, decode_cf=False, engine='h5netcdf')\n# remove undefined values based on variable of interest\nxr_pxcvec = xr_pxcvec.where(~np.isnan(xr_pxcvec.height_vectorproc))"
      ]
    },
    {
      "cell_type": "markdown",
      "metadata": {},
      "source": [
        "## 3. Plot data on maps with cartopy\n\n"
      ]
    },
    {
      "cell_type": "code",
      "execution_count": null,
      "metadata": {
        "collapsed": false
      },
      "outputs": [],
      "source": [
        "import cartopy.crs as ccrs\nimport cartopy.feature as cfeature\n\n\ndef customize_map(ax, cb, label, crs=ccrs.PlateCarree()):\n    \"\"\"This function customizes a map with projection and returns the plt.axes instance\"\"\"\n\n    ax.gridlines(\n        crs=crs,\n        draw_labels=True,\n        color='.7',\n        alpha=.6,\n        linewidth=.4,\n        linestyle='-',\n        )\n    \n    # add a background_map if convenient (default, local image, WMTS...read the doc)\n    # for instance ax.stock_img()\n\n    # add a labeled colorbar\n    plt.colorbar(\n        cb,\n        ax=ax,\n        orientation='horizontal',\n        shrink=0.6,\n        pad=.05,\n        aspect=40,\n        label=label)\n\n    return ax"
      ]
    },
    {
      "cell_type": "markdown",
      "metadata": {},
      "source": [
        "# Pixel Cloud\n\n"
      ]
    },
    {
      "cell_type": "code",
      "execution_count": null,
      "metadata": {
        "collapsed": false
      },
      "outputs": [],
      "source": [
        "# Create Figure and Axes\ncrs = ccrs.PlateCarree()\nfig0, ax0 = plt.subplots(\n    subplot_kw={'projection': crs},\n    figsize=(16,9),\n    frameon=True,\n    )\n\n# plot data on the map with scatter function\ncb0 = ax0.scatter(\n    x=xr_pxc.longitude,\n    y=xr_pxc.latitude,\n    c=xr_pxc.height,\n    s=1,\n    transform=crs,\n    cmap='viridis',\n    vmin=100,\n    vmax=300,\n    )\n# Initiate a map with the function above for Pixel cloud\ncustomize_map(ax0, cb0, \"Water Surface Height (m)\")\n# limit map boundaries based on actual data\nax0.set_extent(\n    [\n        xr_pxc.longitude.min(),\n        xr_pxc.longitude.max(),\n        xr_pxc.latitude.min(),\n        xr_pxc.latitude.max(),\n    ], \n    crs=crs\n    )\nax0.set_title(\"Pixel Cloud\")\nfig0.show()"
      ]
    },
    {
      "cell_type": "markdown",
      "metadata": {},
      "source": [
        "# Pixel Cloud Vector\n\n"
      ]
    },
    {
      "cell_type": "code",
      "execution_count": null,
      "metadata": {
        "collapsed": false
      },
      "outputs": [],
      "source": [
        "# Create Figure and Axes\ncrs = ccrs.PlateCarree()\nfig1, ax1 = plt.subplots(\n    subplot_kw={'projection': crs},\n    figsize=(16,9),\n    frameon=True,\n    )\n\n# plot data on the map with scatter function\ncb1 = ax1.scatter(\n    x=xr_pxcvec.longitude_vectorproc,\n    y=xr_pxcvec.latitude_vectorproc,\n    c=xr_pxcvec.height_vectorproc,\n    s=1,\n    transform=crs,\n    cmap='viridis',\n    vmin=100,\n    vmax=300,\n    )\n# Initiate a map with the function above for Pixel cloud\ncustomize_map(ax1, cb1, \"Water Surface Height (m)\")\n# limit map boundaries based on actual data from reference dataset (for homogeneity)\nax1.set_extent(\n    ax0.get_extent(),\n    crs=crs\n    )\n\nax1.set_title(\"Pixel Cloud Vector\")\nfig1.show()"
      ]
    }
  ],
  "metadata": {
    "kernelspec": {
      "display_name": "Python 3",
      "language": "python",
      "name": "python3"
    },
    "language_info": {
      "codemirror_mode": {
        "name": "ipython",
        "version": 3
      },
      "file_extension": ".py",
      "mimetype": "text/x-python",
      "name": "python",
      "nbconvert_exporter": "python",
      "pygments_lexer": "ipython3",
      "version": "3.11.0"
    }
  },
  "nbformat": 4,
  "nbformat_minor": 0
}