{
  "cells": [
    {
      "cell_type": "code",
      "execution_count": null,
      "metadata": {
        "collapsed": false
      },
      "outputs": [],
      "source": [
        "%matplotlib inline"
      ]
    },
    {
      "cell_type": "markdown",
      "metadata": {},
      "source": [
        "\n# Read and plot a SWOT-HR Raster products \n\nIn this example, we show how to read the SWOT-HR raster 100m or 250m netcdf products with xarray and how to represent a variable on a map with cartopy.\n"
      ]
    },
    {
      "cell_type": "markdown",
      "metadata": {},
      "source": [
        "Libraries\n\n"
      ]
    },
    {
      "cell_type": "code",
      "execution_count": null,
      "metadata": {
        "collapsed": false
      },
      "outputs": [],
      "source": [
        "import xarray as xr\nimport rioxarray\nfrom pyproj import CRS\nimport os\nimport numpy as np\nimport matplotlib.pyplot as plt"
      ]
    },
    {
      "cell_type": "markdown",
      "metadata": {},
      "source": [
        "# 1. Read a SWOT-HR Raster netcdf product with xarray\n\n"
      ]
    },
    {
      "cell_type": "code",
      "execution_count": null,
      "metadata": {
        "collapsed": false
      },
      "outputs": [],
      "source": [
        "dir_swot = \"_data\"\nfile_swot_raster = os.path.join(\n                          dir_swot,\n                          \"SWOT_L2_HR_Raster_250m_UTM30T_N_x_x_x_001_042_036F_20220402T112059_20220402T112119_Dx0000_01.nc\",\n                          )\n# read data with xarray\nxr_swot_raster = xr.open_dataset(file_swot_raster)\n# force xarray to acknowledge the CRS \nxr_swot_raster.rio.set_crs(\n    CRS.from_user_input(xr_swot_raster.crs.projected_crs_name).to_epsg(), \n    inplace=True,\n    )"
      ]
    },
    {
      "cell_type": "markdown",
      "metadata": {},
      "source": [
        "Should you want to quickly see what the data looks like, just use the following line. Lower in the example we will try to have something fancier.\n\n"
      ]
    },
    {
      "cell_type": "code",
      "execution_count": null,
      "metadata": {
        "collapsed": false
      },
      "outputs": [],
      "source": [
        "xr_swot_raster.wse.plot(cmap='cividis')"
      ]
    },
    {
      "cell_type": "markdown",
      "metadata": {},
      "source": [
        "# 2. Plot data on maps with cartopy\n\n"
      ]
    },
    {
      "cell_type": "markdown",
      "metadata": {},
      "source": [
        "let us create a little function to simplify the mapping part\n\n"
      ]
    },
    {
      "cell_type": "code",
      "execution_count": null,
      "metadata": {
        "collapsed": false
      },
      "outputs": [],
      "source": [
        "import cartopy.crs as ccrs\nimport cartopy.feature as cfeature\n\n\ndef customize_map(ax, cb, label, crs=ccrs.PlateCarree()):\n    \"\"\"This function customizes a map with projection and returns the plt.axes instance\"\"\"\n\n    ax.gridlines(\n        crs=crs,\n        draw_labels=True,\n        color='.7',\n        alpha=.6,\n        linewidth=.4,\n        linestyle='-',\n        )\n    \n    # add a background_map (default, local image, WMTS...read the doc)\n    # ax.stock_img()\n\n    # add a labeled colorbar\n    plt.colorbar(\n        cb,\n        ax=ax,\n        orientation='horizontal',\n        shrink=0.6,\n        pad=.05,\n        aspect=40,\n        label=label)\n\n    return ax"
      ]
    },
    {
      "cell_type": "markdown",
      "metadata": {},
      "source": [
        "Create Figure and Axes and plot data with pcolor\n\n"
      ]
    },
    {
      "cell_type": "code",
      "execution_count": null,
      "metadata": {
        "collapsed": false
      },
      "outputs": [],
      "source": [
        "crs = ccrs.PlateCarree()\nfig, axs = plt.subplots(\n    nrows=1,ncols=2,\n    subplot_kw={'projection': crs},\n    figsize=(16,9),\n    frameon=True,\n    )\n\n# 1. plot Water Surface Elevation on map\n# plot data on the map with pcolor function\ncb0 = axs[0].pcolor(\n    xr_swot_raster.longitude,\n    xr_swot_raster.latitude,\n    xr_swot_raster.wse,\n    transform=crs,\n    cmap='cividis',\n    )\n# customize plot with pre-defined function\ncustomize_map(axs[0], cb0, \"Water Surface Elevation (m)\")\n\n# 2. plot Water Fraction on map\ncb1 = axs[1].pcolor(\n    xr_swot_raster.longitude,\n    xr_swot_raster.latitude,\n    xr_swot_raster.water_frac*100,\n    transform=crs,\n    cmap='BuPu',\n    vmin=0,\n    vmax=100,\n    )\n# customize plot with pre-defined function\ncustomize_map(axs[1], cb1, \"Water Fraction (%)\")\n\nfig.show()"
      ]
    }
  ],
  "metadata": {
    "kernelspec": {
      "display_name": "Python 3",
      "language": "python",
      "name": "python3"
    },
    "language_info": {
      "codemirror_mode": {
        "name": "ipython",
        "version": 3
      },
      "file_extension": ".py",
      "mimetype": "text/x-python",
      "name": "python",
      "nbconvert_exporter": "python",
      "pygments_lexer": "ipython3",
      "version": "3.11.0"
    }
  },
  "nbformat": 4,
  "nbformat_minor": 0
}