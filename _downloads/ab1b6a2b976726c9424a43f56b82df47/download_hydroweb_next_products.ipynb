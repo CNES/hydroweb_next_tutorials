{
  "cells": [
    {
      "cell_type": "code",
      "execution_count": null,
      "metadata": {
        "collapsed": false
      },
      "outputs": [],
      "source": [
        "%matplotlib inline"
      ]
    },
    {
      "cell_type": "markdown",
      "metadata": {},
      "source": [
        "\n# Download products from your [hydroweb.next project](https://hydroweb.next.theia-land.fr) using [EODAG](https://github.com/CS-SI/eodag)\n\n\nFollow these steps: \n1. If not already done, install EODAG latest version using `pip install -U eodag` or `conda update eodag`\n2. Generate an API-Key from hydroweb.next portal in your user settings\n3. Carefully store your API-Key\n - either in your eodag configuration file (usually ~/.config/eodag/eodag.yml, automatically generated the first time you use eodag) in auth/credentials/apikey=\"PLEASE_CHANGE_ME\"\n - or in an environment variable `export EODAG__HYDROWEB_NEXT__AUTH__CREDENTIALS__APIKEY=\"PLEASE_CHANGE_ME\"`\n4. You are all set, run this script `python download_New_project.py`\n\nFor more information, please refer to EODAG Documentation https://eodag.readthedocs.io\n"
      ]
    },
    {
      "cell_type": "code",
      "execution_count": null,
      "metadata": {
        "collapsed": false
      },
      "outputs": [],
      "source": [
        "from eodag import EODataAccessGateway, SearchResult\nfrom eodag import setup_logging\n# sphinx_gallery_thumbnail_path = '_static/hydrowebnext.png'\n\nsetup_logging(1)  # 0: nothing, 1: only progress bars, 2: INFO, 3: DEBUG\n\ndag = EODataAccessGateway()"
      ]
    },
    {
      "cell_type": "markdown",
      "metadata": {},
      "source": [
        "Declare the path where the file will be downloaded\n\n"
      ]
    },
    {
      "cell_type": "code",
      "execution_count": null,
      "metadata": {
        "collapsed": false
      },
      "outputs": [],
      "source": [
        "path_out = \"/tmp\""
      ]
    },
    {
      "cell_type": "markdown",
      "metadata": {},
      "source": [
        "Define your search criteria. It defines a list of query-arguments dictionnaries.\nEach query-arguments dictionnary will be used to perform a distinct search, whose results will then be contatenated.\n- add/remove collections using the `productType` key (one per query-arguments dictionnary)\n- add time restrictions using the `start` and `end` keys (e.g. \"start\": \"2020-05-01\" , \"end\": \"2020-05-10T00:00:00Z\" with UTC ISO8601 format)(one per collection/dictionnary)\n- add spatial restrictions using the `geom` key (e.g. \"geom\": \"POLYGON ((1 43, 2 43, 2 44, 1 44, 1 43))\" WKT string, a bounding-box list [lonmin, latmin, lonmax, latmax] can also be passed )(one per collection/dictionnary)\n- more query arguments can be used, see [documentation](https://eodag.readthedocs.io/en/stable/notebooks/api_user_guide/4_search.html?#Search-parameters)\n\n"
      ]
    },
    {
      "cell_type": "code",
      "execution_count": null,
      "metadata": {
        "collapsed": false
      },
      "outputs": [],
      "source": [
        "project_query_args = [\n    {\"productType\":\"SWOT_L2_HR_RASTER_250M_SAMPLE_V1_2\",\"geom\":\"POLYGON ((-4.17 43.10,12.70 43.10,12.70 49.64,-4.17 49.64,-4.17 43.10))\"}]"
      ]
    },
    {
      "cell_type": "markdown",
      "metadata": {},
      "source": [
        "search for matching products in hydroweb.next STAC API catalog\n\n"
      ]
    },
    {
      "cell_type": "code",
      "execution_count": null,
      "metadata": {
        "collapsed": false
      },
      "outputs": [],
      "source": [
        "project_search_results = SearchResult([])\nfor query_args in project_query_args:\t\n    project_search_results.extend(dag.search_all(**query_args))"
      ]
    },
    {
      "cell_type": "markdown",
      "metadata": {},
      "source": [
        "Download\n\n"
      ]
    },
    {
      "cell_type": "code",
      "execution_count": null,
      "metadata": {
        "collapsed": false
      },
      "outputs": [],
      "source": [
        "downloaded_paths = dag.download_all(project_search_results, outputs_prefix=path_out)\nprint(f\"files succesfully downloaded in {downloaded_paths}\")"
      ]
    }
  ],
  "metadata": {
    "kernelspec": {
      "display_name": "Python 3",
      "language": "python",
      "name": "python3"
    },
    "language_info": {
      "codemirror_mode": {
        "name": "ipython",
        "version": 3
      },
      "file_extension": ".py",
      "mimetype": "text/x-python",
      "name": "python",
      "nbconvert_exporter": "python",
      "pygments_lexer": "ipython3",
      "version": "3.11.0"
    }
  },
  "nbformat": 4,
  "nbformat_minor": 0
}